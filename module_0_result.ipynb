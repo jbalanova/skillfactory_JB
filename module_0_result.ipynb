{
 "cells": [
  {
   "cell_type": "code",
   "execution_count": 1,
   "metadata": {},
   "outputs": [
    {
     "name": "stdout",
     "output_type": "stream",
     "text": [
      "Ваш алгоритм угадывает число в среднем за 5 попыток\n"
     ]
    },
    {
     "data": {
      "text/plain": [
       "5"
      ]
     },
     "execution_count": 1,
     "metadata": {},
     "output_type": "execute_result"
    }
   ],
   "source": [
    "import numpy as np\n",
    "count = 0                            # try count\n",
    "number = np.random.randint(1,101)    # the number, that we need to find\n",
    "   \n",
    "\n",
    "def game_core_v(number):\n",
    "    '''make the range for the munber, we'r trying to find and than make the range smaller'''\n",
    "    count = 1\n",
    "    predict = list(range(1,101))     \n",
    "# list the numbers in range\n",
    "    middle = len(predict)//2         \n",
    "# the middle value for the range\n",
    "    lower = 1                        \n",
    "# min value\n",
    "    upper = len(predict)-1           \n",
    "# max value\n",
    "    \n",
    "    while predict[middle] != number and lower <= upper:\n",
    "        count +=1\n",
    "        if number > predict[middle]:\n",
    "            lower = middle + 1\n",
    "        else:\n",
    "            upper = middle - 1\n",
    "        middle = (lower + upper)//2\n",
    "    return(count)                     # number of tries,cicle ends if we get the number\n",
    "\n",
    "\n",
    "def score_game(game_core):\n",
    "    '''Запускаем игру 1000 раз, чтобы узнать, как быстро игра угадывает число'''\n",
    "    count_ls = []\n",
    "    np.random.seed(1)  # фиксируем RANDOM SEED, чтобы ваш эксперимент был воспроизводим!\n",
    "    random_array = np.random.randint(1,101, size=(1000))\n",
    "    for number in random_array:\n",
    "        count_ls.append(game_core(number))\n",
    "    score = int(np.mean(count_ls))\n",
    "    print(f\"Ваш алгоритм угадывает число в среднем за {score} попыток\")\n",
    "    return(score)                     # среднее количество попыток \n",
    "\n",
    "\n",
    "score_game(game_core_v)    "
   ]
  },
  {
   "cell_type": "code",
   "execution_count": 2,
   "metadata": {},
   "outputs": [
    {
     "name": "stdout",
     "output_type": "stream",
     "text": [
      "Ваш алгоритм угадывает число в среднем за 5 попыток\n"
     ]
    },
    {
     "data": {
      "text/plain": [
       "5"
      ]
     },
     "execution_count": 2,
     "metadata": {},
     "output_type": "execute_result"
    }
   ],
   "source": [
    "import numpy as np\n",
    "count = 0                            # try count\n",
    "number = np.random.randint(1,101)    # the number, that we need to find\n",
    "   \n",
    "\n",
    "def game_core_v(number):\n",
    "    '''make the range for the munber, we'r trying to find and than make the range smaller'''\n",
    "    count = 1\n",
    "    predict = list(range(1,101))     \n",
    "# list the numbers in range\n",
    "    middle = len(predict)//2         \n",
    "# the middle value for the range\n",
    "    lower = 1                        \n",
    "# min value\n",
    "    upper = len(predict)-1           \n",
    "# max value\n",
    "    \n",
    "    while predict[middle] != number and lower <= upper:\n",
    "        count +=1\n",
    "        if number > predict[middle]:\n",
    "            lower = middle + 1\n",
    "        else:\n",
    "            upper = middle - 1\n",
    "        middle = (lower + upper)//2\n",
    "    return(count)                     # number of tries,cicle ends if we get the number\n",
    "\n",
    "\n",
    "def score_game(game_core):\n",
    "    '''Запускаем игру 1000 раз, чтобы узнать, как быстро игра угадывает число'''\n",
    "    count_ls = []\n",
    "    np.random.seed(1)  # фиксируем RANDOM SEED, чтобы ваш эксперимент был воспроизводим!\n",
    "    random_array = np.random.randint(1,101, size=(1000))\n",
    "    for number in random_array:\n",
    "        count_ls.append(game_core(number))\n",
    "    score = int(np.mean(count_ls))\n",
    "    print(f\"Ваш алгоритм угадывает число в среднем за {score} попыток\")\n",
    "    return(score)                     # среднее количество попыток \n",
    "\n",
    "\n",
    "score_game(game_core_v)   "
   ]
  },
  {
   "cell_type": "code",
   "execution_count": null,
   "metadata": {},
   "outputs": [],
   "source": []
  }
 ],
 "metadata": {
  "kernelspec": {
   "display_name": "Python 3",
   "language": "python",
   "name": "python3"
  },
  "language_info": {
   "codemirror_mode": {
    "name": "ipython",
    "version": 3
   },
   "file_extension": ".py",
   "mimetype": "text/x-python",
   "name": "python",
   "nbconvert_exporter": "python",
   "pygments_lexer": "ipython3",
   "version": "3.8.5"
  }
 },
 "nbformat": 4,
 "nbformat_minor": 4
}
